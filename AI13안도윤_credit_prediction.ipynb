{
  "nbformat": 4,
  "nbformat_minor": 0,
  "metadata": {
    "colab": {
      "name": "AI13안도윤_credit_prediction.ipynb",
      "private_outputs": true,
      "provenance": [],
      "collapsed_sections": []
    },
    "kernelspec": {
      "name": "python3",
      "display_name": "Python 3"
    },
    "language_info": {
      "name": "python"
    }
  },
  "cells": [
    {
      "cell_type": "markdown",
      "source": [
        "# **Credit prediction (AI 13 안도윤)**\n",
        "신용 카드 신청자가 제출한 개인 정보 및 데이터를 사용하여 \n",
        "***향후 채무 불이행 및 신용 카드 대출 가능성을 예측***\n",
        "\n",
        "---\n",
        "\n",
        "\n",
        "\n",
        "\n",
        "> ## **1.** 데이터 세부사항\n",
        "\n",
        "\n",
        "* ### **링크**  \n",
        "  https://www.kaggle.com/datasets/rikdifos/credit-card-approval-prediction\n",
        "  \n",
        "\n",
        "* ### **고객정보 csv 파일** (application_record.csv)\n",
        "ID:\t클라이언트 번호\t\n",
        "CODE_GENDER:\t성별\t\n",
        "FLAG_OWN_CAR:\t차 소유 여부 \\\n",
        "FLAG_OWN_REALTY:\t부동산 소유 여부 \\\n",
        "CNT_CHILDREN:\t자녀의 수\t\n",
        "AMT_INCOME_TOTAL:\t연간 소득\t\n",
        "NAME_INCOME_TYPE:\t소득 카테고리\t\n",
        "NAME_EDUCATION_TYPE:\t교육 수준\t\n",
        "NAME_FAMILY_STATUS:\t결혼 여부\t\n",
        "NAME_HOUSING_TYPE:\t가정 타입 (아파트, 렌트, 부모동거 등)\t\n",
        "DAYS_BIRTH:\t생일\t(현재 날짜(0)에서 거꾸로 계산, -1은 어제)\\\n",
        "DAYS_EMPLOYED:\t고용 시작일\t(현재 날짜(0)부터 거꾸로 계산, 양성이면 현재 실직 중인 사람)\\\n",
        "FLAG_MOBIL:\t휴대 전화 유무\\\n",
        "FLAG_WORK_PHONE:\t직장 전화 유무\\\n",
        "FLAG_PHONE:\t전화기 유무\\\n",
        "FLAG_EMAIL:\t이메일 유무\\\n",
        "OCCUPATION_TYPE:\t직업\t\n",
        "CNT_FAM_MEMBERS:\t가족 구성원 수\n",
        "\n",
        "* ### **연체여부 csv 파일**(Credit_record.csv)\n",
        "ID:\t클라이언트 번호\t\n",
        "MONTHS_BALANCE:\t기록월\t(추출된 데이터의 월은 시작점, 역순, 0은 현재 월, -1은 이전 월)\n",
        "STATUS:\t상태\t(0: 1-29일 연체 1: 30-59일 연체 2: 60-89일 연체 3: 90-119일 연체 4: 연체 120-149일 5: 연체 또는 불량 부채, 상각 150일 C: 해당 월 상환 X: 해당 월 대출 없음)\n",
        "\n",
        "\n",
        "\n",
        "\n",
        "\n",
        "\n",
        "\n"
      ],
      "metadata": {
        "id": "GBdfkOBRB6_n"
      }
    },
    {
      "cell_type": "markdown",
      "source": [
        "\n",
        "\n",
        "> ## **2.** 데이터 전처리\n",
        "### 2-1. 데이터셋 로드\n",
        "\n"
      ],
      "metadata": {
        "id": "QHrfVTeSHh2k"
      }
    },
    {
      "cell_type": "code",
      "execution_count": null,
      "metadata": {
        "id": "1HOWoks2AIIW"
      },
      "outputs": [],
      "source": [
        "from google.colab import drive\n",
        "drive.mount('/content/drive')"
      ]
    },
    {
      "cell_type": "code",
      "source": [
        "import pandas as pd\n",
        "\n",
        "df1 = pd.read_csv('/content/drive/MyDrive/codestates/archive (2)/application_record.csv')\n",
        "df2 = pd.read_csv('/content/drive/MyDrive/codestates/archive (2)/credit_record.csv')"
      ],
      "metadata": {
        "id": "s9zDnc6iwKgU"
      },
      "execution_count": null,
      "outputs": []
    },
    {
      "cell_type": "code",
      "source": [
        "df_ap = df1.copy()\n",
        "df_cr = df2.copy()"
      ],
      "metadata": {
        "id": "-TzJy890wQtW"
      },
      "execution_count": null,
      "outputs": []
    },
    {
      "cell_type": "markdown",
      "source": [
        "### 2-2. 데이터 정보"
      ],
      "metadata": {
        "id": "KVQvRnBZzXF9"
      }
    },
    {
      "cell_type": "code",
      "source": [
        "!pip install category_encoders"
      ],
      "metadata": {
        "id": "5qP7U3y30Sko"
      },
      "execution_count": null,
      "outputs": []
    },
    {
      "cell_type": "code",
      "source": [
        "#크기\n",
        "df_ap.shape, df_cr.shape"
      ],
      "metadata": {
        "id": "Z-7KZQGrzcLU"
      },
      "execution_count": null,
      "outputs": []
    },
    {
      "cell_type": "code",
      "source": [
        "#누락값 개수\n",
        "df_ap.isnull().sum()"
      ],
      "metadata": {
        "id": "gfIggTq6z5zS"
      },
      "execution_count": null,
      "outputs": []
    },
    {
      "cell_type": "code",
      "source": [
        "df_cr.isnull().sum()"
      ],
      "metadata": {
        "id": "i995rk6r0IWL"
      },
      "execution_count": null,
      "outputs": []
    },
    {
      "cell_type": "markdown",
      "source": [
        "> ## **3.** 데이터 Wrangling\n",
        "### 3-1. 데이터 cleaning 및 변환\n",
        "\n",
        "\n",
        "*   df_ap (고객 정보 데이터)\n",
        "\n",
        "\n",
        "\n"
      ],
      "metadata": {
        "id": "7SnUJmh2zFF6"
      }
    },
    {
      "cell_type": "code",
      "source": [
        "df_ap.head(10)\n",
        "#아이디만 다른 중복 행 여러개 존재"
      ],
      "metadata": {
        "id": "XWxVrVpazRs1"
      },
      "execution_count": null,
      "outputs": []
    },
    {
      "cell_type": "code",
      "source": [
        "#중복값 확인\n",
        "print(df_ap['ID'].nunique())\n",
        "print(df_cr['ID'].nunique())"
      ],
      "metadata": {
        "id": "Lk1RPuvB4CLc"
      },
      "execution_count": null,
      "outputs": []
    },
    {
      "cell_type": "code",
      "source": [
        "#두 데이터셋의 교집합 갯수\n",
        "len(set(df_ap['ID']).intersection(set(df_cr['ID'])))"
      ],
      "metadata": {
        "id": "fwE5pa5-4tAY"
      },
      "execution_count": null,
      "outputs": []
    },
    {
      "cell_type": "code",
      "source": [
        "#고객 정보 데이터셋의 중복 데이터 제거 \n",
        "df_ap = df_ap.drop_duplicates('ID', keep='last') \n",
        "\n",
        "#고객 정보 데이터셋 Occupation type 제거 (null 값 많기 때문)\n",
        "df_ap.drop('OCCUPATION_TYPE', axis=1, inplace=True) "
      ],
      "metadata": {
        "id": "03nyX9Jl9wK1"
      },
      "execution_count": null,
      "outputs": []
    },
    {
      "cell_type": "markdown",
      "source": [
        "\n",
        "\n",
        "*  df_cr (고객별 대출 상환 내역)\n",
        "\n"
      ],
      "metadata": {
        "id": "TMysjnDhooJw"
      }
    },
    {
      "cell_type": "code",
      "source": [
        "df_cr.head(10)"
      ],
      "metadata": {
        "id": "BAMQLZbkErae"
      },
      "execution_count": null,
      "outputs": []
    },
    {
      "cell_type": "code",
      "source": [
        "#months balance 양수값으로 변환\n",
        "df_cr['Months_current'] = df_cr['MONTHS_BALANCE'] * (-1) \n",
        "df_cr.drop('MONTHS_BALANCE', axis=1, inplace=True)"
      ],
      "metadata": {
        "id": "icSN6nDNKjqn"
      },
      "execution_count": null,
      "outputs": []
    },
    {
      "cell_type": "markdown",
      "source": [
        "\n",
        "\n",
        "---\n",
        "\n",
        "\n",
        "은행의 입장에서 고객의 카드 연체율은 리스크이기 때문에 고객의 연체 여부를 알기 위한 머신러닝 모델 생성\n",
        "-> Target 값 : 고객의 STATUS"
      ],
      "metadata": {
        "id": "3JMMCO2QO056"
      }
    },
    {
      "cell_type": "code",
      "source": [
        "#STATUS 정수로 변환\n",
        "def to_int(x):\n",
        "    if x == '0':\n",
        "        return 1 # 1~29일 연체 \n",
        "    elif x == '1':\n",
        "        return 2 # 30~59일 연체  \n",
        "    elif x == '2':\n",
        "        return 3 # 60~89일 연체 \n",
        "    elif x == '3':\n",
        "        return 4 # 90~119일 연체  \n",
        "    elif x == '4':\n",
        "        return 5 # 120~149일 연체 \n",
        "    elif x == '5':\n",
        "        return 6 # 150일 이상 연체 \n",
        "    else:\n",
        "        return 0 # 상환완료 혹은 대출 경험 없는 경우"
      ],
      "metadata": {
        "id": "5pxENV6UoZE-"
      },
      "execution_count": null,
      "outputs": []
    },
    {
      "cell_type": "code",
      "source": [
        "df_cr['status'] = df_cr['STATUS'].apply(to_int)"
      ],
      "metadata": {
        "id": "NLmHdLfrZln_"
      },
      "execution_count": null,
      "outputs": []
    },
    {
      "cell_type": "code",
      "source": [
        "df_cr.head(5)"
      ],
      "metadata": {
        "id": "42vBeGxfu5cu"
      },
      "execution_count": null,
      "outputs": []
    },
    {
      "cell_type": "markdown",
      "source": [
        "\n",
        "\n",
        "---\n",
        "\n",
        "\n",
        "[신용 등급 column 생성]\n",
        "\n",
        "\n",
        "\n",
        "*   연체 경험 없음 : 0 \n",
        "*   한 달 이상 연체 고객 : 1 \\\n",
        "\n",
        "\n",
        "\n",
        "\n",
        "\n",
        "\n"
      ],
      "metadata": {
        "id": "v5-eLN4McEqP"
      }
    },
    {
      "cell_type": "code",
      "source": [
        "# 한달 이상 연체가 된 경험이 있는 경우 1 / 그런 적이 한번도 없는 경우 0\n",
        "def credit(y):\n",
        "    if (2 or 3 or 4 or 5 or 6) in y :\n",
        "        return 1\n",
        "    else:\n",
        "        return 0\n",
        "\n",
        "#새로운 dataframe 형성\n",
        "df_cr2 = pd.DataFrame(df_cr.groupby('ID')['status'].apply(list))"
      ],
      "metadata": {
        "id": "a8J1JCF_b30N"
      },
      "execution_count": null,
      "outputs": []
    },
    {
      "cell_type": "code",
      "source": [
        "df_cr2['Credit'] = pd.DataFrame(df_cr.groupby('ID')['status'].apply(list))['status'].apply(credit)\n",
        "df_cr2.head()"
      ],
      "metadata": {
        "id": "MzdMRbRHd3d_"
      },
      "execution_count": null,
      "outputs": []
    },
    {
      "cell_type": "code",
      "source": [
        "df_cr2 = df_cr2.reset_index().drop('status', axis=1)"
      ],
      "metadata": {
        "id": "BYASjMdVempD"
      },
      "execution_count": null,
      "outputs": []
    },
    {
      "cell_type": "code",
      "source": [
        "df_cr2.value_counts(subset='Credit')"
      ],
      "metadata": {
        "id": "36Ab3xuce2OX"
      },
      "execution_count": null,
      "outputs": []
    },
    {
      "cell_type": "code",
      "source": [
        "# credit 분포 확인\n",
        "import seaborn as sns\n",
        "print(df_cr2['Credit'].value_counts(normalize = True))\n",
        "sns.countplot(x=df_cr2['Credit']);"
      ],
      "metadata": {
        "id": "YU-QQdPxwKiv"
      },
      "execution_count": null,
      "outputs": []
    },
    {
      "cell_type": "code",
      "source": [
        "df_cr2.head()"
      ],
      "metadata": {
        "id": "5KQQYrHIfyyn"
      },
      "execution_count": null,
      "outputs": []
    },
    {
      "cell_type": "markdown",
      "source": [
        "### 3-2. 데이터프레임 merge"
      ],
      "metadata": {
        "id": "q1HXfl0wf8Ha"
      }
    },
    {
      "cell_type": "code",
      "source": [
        "df_m = df_ap.merge(df_cr2, how='inner', on='ID')"
      ],
      "metadata": {
        "id": "ioYs1eJPgHJI"
      },
      "execution_count": null,
      "outputs": []
    },
    {
      "cell_type": "code",
      "source": [
        "df_m.head()"
      ],
      "metadata": {
        "id": "EdIZb4xBgQUy"
      },
      "execution_count": null,
      "outputs": []
    },
    {
      "cell_type": "markdown",
      "source": [
        "> ## **4.** EDA & Feature Engineering\n"
      ],
      "metadata": {
        "id": "AdgQDLfQgUKi"
      }
    },
    {
      "cell_type": "code",
      "source": [
        "df = df_m.copy()\n",
        "df.head()"
      ],
      "metadata": {
        "id": "68WAaYRzi_82"
      },
      "execution_count": null,
      "outputs": []
    },
    {
      "cell_type": "code",
      "source": [
        "df.info()"
      ],
      "metadata": {
        "id": "zIbsnYm1jYer"
      },
      "execution_count": null,
      "outputs": []
    },
    {
      "cell_type": "code",
      "source": [
        "df.describe().T"
      ],
      "metadata": {
        "id": "gLR0JY2QjZq6"
      },
      "execution_count": null,
      "outputs": []
    },
    {
      "cell_type": "code",
      "source": [
        "#mobile phone 여부는 모두 1이기 때문에 column 삭제\n",
        "df = df.drop(['FLAG_MOBIL'], axis=1)\n",
        "df.head(5)"
      ],
      "metadata": {
        "id": "ILALXOqiU2hL"
      },
      "execution_count": null,
      "outputs": []
    },
    {
      "cell_type": "code",
      "source": [
        "# 컬럼명 수정\n",
        "df.rename(columns={'CODE_GENDER':'GENDER',\n",
        "                   'FLAG_OWN_CAR':'CAR',\n",
        "                   'FLAG_OWN_REALTY':'REALTY',\n",
        "                   'CNT_CHILDREN':'CHILDREN',\n",
        "                   'AMT_INCOME_TOTAL':'ANNUAL_INCOME',\n",
        "                   'NAME_INCOME_TYPE':'INCOME_TYPE',\n",
        "                   'NAME_EDUCATION_TYPE':'EDUCATION_LEVEL',\n",
        "                   'NAME_HOUSING_TYPE':'HOUSING_TYPE',\n",
        "                   'NAME_FAMILY_STATUS':'MARRIED',\n",
        "                   'FLAG_WORK_PHONE':'PHONE_WORK',\n",
        "                   'FLAG_PHONE':'PHONE_HOME',\n",
        "                   'FLAG_EMAIL':'EMAIL',\n",
        "                   'CNT_FAM_MEMBERS':'FAMILY_SIZE',\n",
        "                   'Credit':'CREDIT'\n",
        "                   }, inplace=True)\n",
        "df.head(3)"
      ],
      "metadata": {
        "id": "O6Yz_it-Vs8L"
      },
      "execution_count": null,
      "outputs": []
    },
    {
      "cell_type": "code",
      "source": [
        "# 이진형 column은 숫자로 변환\n",
        "\n",
        "#남자 1 여자 0\n",
        "df['GENDER'] = df['GENDER'].apply(lambda x : 0 if x == 'M' else 1)\n",
        "#차 있음 1 없음 0\n",
        "df['CAR'] = df['CAR'].apply(lambda x : 0 if x == 'N' else 1)\n",
        "#부동산 소유 1 없음 0\n",
        "df['REALTY'] = df['REALTY'].apply(lambda x : 0 if x == 'N' else 1)"
      ],
      "metadata": {
        "id": "SWG60sisgsEO"
      },
      "execution_count": null,
      "outputs": []
    },
    {
      "cell_type": "code",
      "source": [
        "# DAYS_BIRTH 나이로 전환\n",
        "df['AGE'] = -df['DAYS_BIRTH'] // 365\n",
        "\n",
        "# DAYS_EMPLOYED' 양수로 전환\n",
        "df['DAYS_EMPLOYED'] = df['DAYS_EMPLOYED'] * (-1)\n",
        "\n",
        "df.drop('DAYS_BIRTH',axis = 1 , inplace = True)"
      ],
      "metadata": {
        "id": "ThZmUORog9cq"
      },
      "execution_count": null,
      "outputs": []
    },
    {
      "cell_type": "code",
      "source": [
        "df.info()"
      ],
      "metadata": {
        "id": "rA-um0vDwn7c"
      },
      "execution_count": null,
      "outputs": []
    },
    {
      "cell_type": "markdown",
      "source": [
        "\n",
        "\n",
        "---\n",
        "\n",
        "\n",
        "## 4-1 데이터 이상치 파악 및 제거\n",
        "\n",
        "\n",
        "*  수치형 column\n",
        "\n",
        "\n",
        "\n",
        "\n",
        "\n"
      ],
      "metadata": {
        "id": "O-xPbSuiwQNj"
      }
    },
    {
      "cell_type": "code",
      "source": [
        "#데이터 형식별 이상치 확인 및 제거\n",
        "\n",
        "nums = ['CHILDREN', 'ANNUAL_INCOME', 'DAYS_EMPLOYED', 'PHONE_WORK', 'PHONE_HOME', 'EMAIL',\n",
        "       'FAMILY_SIZE','AGE']\n",
        "       \n",
        "cats= ['INCOME_TYPE', 'EDUCATION_LEVEL', 'MARRIED', 'HOUSING_TYPE']\n",
        "\n",
        "\n",
        "#Outlier 확인 (Numeric Feature)\n",
        "import matplotlib.pyplot as plt\n",
        "import seaborn as sns\n",
        "\n",
        "for i in nums:\n",
        "    df[i].plot()\n",
        "    plt.title(i)\n",
        "    plt.show()\n",
        "    print('0보다 큰 샘플 :', len(df[df[i] > 0]))\n",
        "    print('0과 같은 샘플 :', len(df[df[i] == 0]))\n",
        "    print('0보다 작은 샘플 :', len(df[df[i] < 0]))"
      ],
      "metadata": {
        "id": "Dp1IDnN6gfiG"
      },
      "execution_count": null,
      "outputs": []
    },
    {
      "cell_type": "markdown",
      "source": [
        "\n",
        "\n",
        "> DAYS_EMPLOYED column 에 음수값 존재. 이상치 있는 column 확인 가능\n",
        "\n"
      ],
      "metadata": {
        "id": "U6MW0BoS-qNd"
      }
    },
    {
      "cell_type": "code",
      "source": [
        "# DAYS_EMPLOYED 음수값은 일을 하고 있지 않은 상태로, 0으로 통일\n",
        "\n",
        "df.loc[df['DAYS_EMPLOYED'] < 0, 'DAYS_EMPLOYED'] = 0"
      ],
      "metadata": {
        "id": "xLA10oMQ-3MY"
      },
      "execution_count": null,
      "outputs": []
    },
    {
      "cell_type": "markdown",
      "source": [
        "\n",
        "\n",
        "> 이상치가 있을 가능성이 높은 column : \n",
        "\n",
        "\n",
        "*  CHILDREN\n",
        "*  ANNUAL_INCOME\n",
        "*  AGE\n",
        "*  DAYS_EMPLOYED\n",
        "*  FAMILY_SIZE\n",
        "\n",
        "-> Boxplot으로 정확하게 시각화 진행\n",
        "\n",
        "\n",
        "\n"
      ],
      "metadata": {
        "id": "Z4lkr_Gj-RfC"
      }
    },
    {
      "cell_type": "code",
      "source": [
        "# boxplot으로 Outlier 보기\n",
        "fig = plt.figure(figsize=(15,15)) \n",
        "for i, col in enumerate(['CHILDREN','ANNUAL_INCOME','AGE','DAYS_EMPLOYED','FAMILY_SIZE']):\n",
        "  plt.subplot(3,2,i+1)\n",
        "  sns.boxplot(df[col])"
      ],
      "metadata": {
        "id": "zjqTHFHo7Qxi"
      },
      "execution_count": null,
      "outputs": []
    },
    {
      "cell_type": "code",
      "source": [
        "#Outlier 제거 (numeric column)\n",
        "#범위 (min: 25%, max: 75%)\n",
        "def remove_outlier(df):\n",
        "  for i in ['CHILDREN','ANNUAL_INCOME','AGE','DAYS_EMPLOYED','FAMILY_SIZE']:\n",
        "    df = df[(df[i]>=(df[i].quantile(0.25))) & (df[i]<=(df[i].quantile(0.75)))]\n",
        "  return df\n",
        "\n",
        "remove_outlier(df)"
      ],
      "metadata": {
        "id": "bQRayJYuhHia"
      },
      "execution_count": null,
      "outputs": []
    },
    {
      "cell_type": "code",
      "source": [
        "df.reset_index(drop=True)"
      ],
      "metadata": {
        "id": "S4rh6ld0qvi4"
      },
      "execution_count": null,
      "outputs": []
    },
    {
      "cell_type": "markdown",
      "source": [
        "\n",
        "\n",
        "\n",
        "---\n",
        "\n",
        "\n",
        "*   명목형 column outlier 확인\n",
        "\n",
        "\n"
      ],
      "metadata": {
        "id": "Lbl1SpqnWqks"
      }
    },
    {
      "cell_type": "code",
      "source": [
        "#categorical feature 이상치 확인\n",
        "for i in cats :\n",
        "   print(i,'\\n')\n",
        "   print(df[i].value_counts())"
      ],
      "metadata": {
        "id": "pouIF9iihMGC"
      },
      "execution_count": null,
      "outputs": []
    },
    {
      "cell_type": "code",
      "source": [
        "df.drop('ID', axis=1, inplace=True) # ID 제거"
      ],
      "metadata": {
        "id": "oUCW60DuW-eZ"
      },
      "execution_count": null,
      "outputs": []
    },
    {
      "cell_type": "code",
      "source": [
        "df_model = df.copy()"
      ],
      "metadata": {
        "id": "vsIF4AubCiTh"
      },
      "execution_count": null,
      "outputs": []
    },
    {
      "cell_type": "code",
      "source": [
        "df_model.shape"
      ],
      "metadata": {
        "id": "6kzsdrYaCyea"
      },
      "execution_count": null,
      "outputs": []
    },
    {
      "cell_type": "code",
      "source": [
        "#credit(target) 분포 확인\n",
        "df_model['CREDIT'].value_counts(normalize=True)"
      ],
      "metadata": {
        "id": "q3n1wcPjC1T5"
      },
      "execution_count": null,
      "outputs": []
    },
    {
      "cell_type": "code",
      "source": [
        "sns.countplot(data=df_model, x='CREDIT');"
      ],
      "metadata": {
        "id": "cOtIpQEWDOHD"
      },
      "execution_count": null,
      "outputs": []
    },
    {
      "cell_type": "markdown",
      "source": [
        "## 4-2 EDA, 시각화\n",
        "### 4-2-1 자료 시각화 (이진형 데이터)\n",
        "\n",
        "\n"
      ],
      "metadata": {
        "id": "bSHwAkK1shov"
      }
    },
    {
      "cell_type": "code",
      "source": [
        "df_sort = df.copy()\n",
        "df_sort = df_sort.sort_values('ANNUAL_INCOME')\n",
        "df_sort = df_sort.reset_index(drop=True)\n",
        "df_sort.ID=df_sort.index\n",
        "df_sort"
      ],
      "metadata": {
        "id": "nZD68x8bsmq6"
      },
      "execution_count": null,
      "outputs": []
    },
    {
      "cell_type": "code",
      "source": [
        "#전체 고객목록 중 2달 이상 연체 경험이 있는 고객 비율\n",
        "print('36457명의 고객 중\\n'+str(round(df_sort.CREDIT.sum()/len(df_sort)*100,2)) +'% ,',str(df_sort.CREDIT.sum()) +' 명의 2달 이상 연체 고객이 있음' )"
      ],
      "metadata": {
        "id": "QWp4etJalxhr"
      },
      "execution_count": null,
      "outputs": []
    },
    {
      "cell_type": "code",
      "source": [
        "#이진형 데이터 (성별, 자동차 유무, 부동산 유뮤, 전화소유 유무, 이메일 유무) 에 따른 신용도 분류\n",
        "binary_features = ['GENDER', 'CAR', 'REALTY', 'PHONE_WORK', 'PHONE_HOME', 'EMAIL']\n",
        "binary_df = df_sort[binary_features+['CREDIT']]\n",
        "dict_list = []\n",
        "for feature in binary_features:\n",
        "    for one_type in [0, 1]:\n",
        "        dict_list.append({'feature': feature,\n",
        "                          'type': one_type,\n",
        "                          'credit_rate': len(binary_df[binary_df[feature]==one_type][binary_df.CREDIT==1])/len(binary_df[binary_df[feature]==one_type]),\n",
        "                          'count': len(binary_df[binary_df[feature]==one_type]),\n",
        "                          'Credit_count': len(binary_df[binary_df[feature]==one_type][binary_df.CREDIT==1])\n",
        "                         })\n",
        "\n",
        "group_binary = pd.DataFrame.from_dict(dict_list)\n",
        "sns.barplot(x=\"feature\", y=\"credit_rate\", hue=\"type\", data=group_binary)\n",
        "plt.show()\n",
        "group_binary"
      ],
      "metadata": {
        "id": "KjMKUJG01d3b"
      },
      "execution_count": null,
      "outputs": []
    },
    {
      "cell_type": "markdown",
      "source": [
        "\n",
        "\n",
        "> **성별, 차량 소유, 부동산 소유, 전화 소유, 이메일 소유 등은 신용 등급에 큰 영향을 미치지 않다는 것을 알 수 있음**\n",
        "\n"
      ],
      "metadata": {
        "id": "G7NvMK324rw3"
      }
    },
    {
      "cell_type": "markdown",
      "source": [
        "*  수입이 많은 사람이 대출 상환 능력이 높다고 생각함.\\\n",
        "전체 수입에 따른 credit 등급 분류 진행"
      ],
      "metadata": {
        "id": "Ns7P15qM3e02"
      }
    },
    {
      "cell_type": "code",
      "source": [
        "sns.boxplot(x=\"CREDIT\", y=\"ANNUAL_INCOME\", data=df_sort[df_sort.ANNUAL_INCOME <=500000])\n",
        "plt.show()"
      ],
      "metadata": {
        "id": "eMGTKrtD5DxY"
      },
      "execution_count": null,
      "outputs": []
    },
    {
      "cell_type": "markdown",
      "source": [
        "\n",
        "\n",
        "> 연간 수입도 데이터 상으로는 신용도에 큰 영향을 미치지 않는다는 것을 알 수 있음\n",
        "\n"
      ],
      "metadata": {
        "id": "D9UgbEPpXWu1"
      }
    },
    {
      "cell_type": "markdown",
      "source": [
        "\n",
        "\n",
        "---\n",
        "### 4-2-2 자료 시각화 (명목형 데이터)\n"
      ],
      "metadata": {
        "id": "Rfs0nW32X-1A"
      }
    },
    {
      "cell_type": "markdown",
      "source": [
        "\n",
        "\n",
        "*   거주하는 집의 형태에 따른 신용도\n",
        "\n"
      ],
      "metadata": {
        "id": "aQio6jtKY5bK"
      }
    },
    {
      "cell_type": "code",
      "source": [
        "total=df_sort.groupby(by=['HOUSING_TYPE']).size().reset_index(name='total')\n",
        "credit = df[df_sort.CREDIT==1].groupby(by=['HOUSING_TYPE']).size().reset_index(name='credit_count')\n",
        "credit_rate = pd.merge(total, credit, how='outer', on=['HOUSING_TYPE']).fillna(0)\n",
        "credit_rate['credit_rate'] = credit_rate.credit_count / credit_rate.total\n",
        "sns.barplot(x=\"HOUSING_TYPE\", y=\"credit_rate\", data=credit_rate)\n",
        "plt.xticks(rotation=90)\n",
        "plt.show()\n",
        "credit_rate"
      ],
      "metadata": {
        "id": "PORCJB3HXt0x"
      },
      "execution_count": null,
      "outputs": []
    },
    {
      "cell_type": "markdown",
      "source": [
        "\n",
        "    거주 형태도 신용도에 큰 영향을 미치지 않음\n"
      ],
      "metadata": {
        "id": "xEEwQ7PuS0Ze"
      }
    },
    {
      "cell_type": "markdown",
      "source": [
        "\n",
        "\n",
        "*   교육 형태 (최종 학력)에 따른 신용도\n",
        "\n",
        "\n"
      ],
      "metadata": {
        "id": "U7aqQaJeZAvA"
      }
    },
    {
      "cell_type": "code",
      "source": [
        "total=df_sort.groupby(by=['EDUCATION_LEVEL']).size().reset_index(name='total')\n",
        "credit = df[df_sort.CREDIT==1].groupby(by=['EDUCATION_LEVEL']).size().reset_index(name='credit_count')\n",
        "credit_rate = pd.merge(total, credit, how='outer', on=['EDUCATION_LEVEL']).fillna(0)\n",
        "credit_rate['credit_rate'] = credit_rate.credit_count / credit_rate.total\n",
        "sns.barplot(x=\"EDUCATION_LEVEL\", y=\"credit_rate\", data=credit_rate)\n",
        "plt.xticks(rotation=90)\n",
        "plt.show()\n",
        "credit_rate"
      ],
      "metadata": {
        "id": "NomZpI_7ZQGY"
      },
      "execution_count": null,
      "outputs": []
    },
    {
      "cell_type": "markdown",
      "source": [
        "      최종 학력은 초등 교육인 사람들의 저신용도 비율이 제일 많음"
      ],
      "metadata": {
        "id": "LmCgO879S_d6"
      }
    },
    {
      "cell_type": "markdown",
      "source": [
        "\n",
        "\n",
        "*   수입 형태에 따른 신용도\n"
      ],
      "metadata": {
        "id": "gtd7W6ToZQga"
      }
    },
    {
      "cell_type": "code",
      "source": [
        "total=df_sort.groupby(by=['INCOME_TYPE']).size().reset_index(name='total')\n",
        "credit = df[df_sort.CREDIT==1].groupby(by=['INCOME_TYPE']).size().reset_index(name='credit_count')\n",
        "credit_rate = pd.merge(total, credit, how='outer', on=['INCOME_TYPE']).fillna(0)\n",
        "credit_rate['credit_rate'] = credit_rate.credit_count / credit_rate.total\n",
        "sns.barplot(x=\"INCOME_TYPE\", y=\"credit_rate\", data=credit_rate)\n",
        "plt.xticks(rotation=90)\n",
        "plt.show()\n",
        "credit_rate"
      ],
      "metadata": {
        "id": "lNEabueWZeRS"
      },
      "execution_count": null,
      "outputs": []
    },
    {
      "cell_type": "markdown",
      "source": [
        "     직업이 따로 없고 학생인 사람들의 저신용도 비율이 높음"
      ],
      "metadata": {
        "id": "BwbFYROBTIX-"
      }
    },
    {
      "cell_type": "markdown",
      "source": [
        "\n",
        "\n",
        "*   결혼 여부에 따른 신용도\n",
        "\n",
        "\n"
      ],
      "metadata": {
        "id": "1XHFKE7-cxtd"
      }
    },
    {
      "cell_type": "code",
      "source": [
        "total=df_sort.groupby(by=['MARRIED']).size().reset_index(name='total')\n",
        "credit = df[df_sort.CREDIT==1].groupby(by=['MARRIED']).size().reset_index(name='credit_count')\n",
        "credit_rate = pd.merge(total, credit, how='outer', on=['MARRIED']).fillna(0)\n",
        "credit_rate['credit_rate'] = credit_rate.credit_count / credit_rate.total\n",
        "sns.barplot(x=\"MARRIED\", y=\"credit_rate\", data=credit_rate)\n",
        "plt.xticks(rotation=90)\n",
        "plt.show()\n",
        "credit_rate"
      ],
      "metadata": {
        "id": "lFvrgpegc2oY"
      },
      "execution_count": null,
      "outputs": []
    },
    {
      "cell_type": "markdown",
      "source": [
        "     배우자를 떠나보낸 사람들의 저신용도 비율이 높으나, 차이는 다른 항목과 미미함"
      ],
      "metadata": {
        "id": "rEg-fs4bTQda"
      }
    },
    {
      "cell_type": "markdown",
      "source": [
        "> ## **5.** Modeling\n",
        "\n",
        "\n",
        "### 5-1. Train, Test 데이터 나누기\n",
        "\n",
        "\n"
      ],
      "metadata": {
        "id": "otKt6fry8xGM"
      }
    },
    {
      "cell_type": "code",
      "source": [
        "#train test val 나누기\n",
        "target = 'CREDIT'\n",
        "features = df_model.drop(columns=[target], axis=1).columns"
      ],
      "metadata": {
        "id": "uzJMluuVi-I8"
      },
      "execution_count": null,
      "outputs": []
    },
    {
      "cell_type": "code",
      "source": [
        "from sklearn.model_selection import train_test_split\n",
        "\n",
        "train, test = train_test_split(df_model, test_size=0.2, stratify=df[target], random_state=42)\n",
        "train, val = train_test_split(train, test_size=0.2, stratify=train[target], random_state=42)"
      ],
      "metadata": {
        "id": "-ltyGHfdBSmy"
      },
      "execution_count": null,
      "outputs": []
    },
    {
      "cell_type": "code",
      "source": [
        "train.shape, val.shape, test.shape"
      ],
      "metadata": {
        "id": "crfP0DgpBX7-"
      },
      "execution_count": null,
      "outputs": []
    },
    {
      "cell_type": "code",
      "source": [
        "X_train = train[features]\n",
        "y_train = train[target]\n",
        "\n",
        "X_val = val[features]\n",
        "y_val = val[target]\n",
        "\n",
        "X_test = test[features]\n",
        "y_test = test[target]\n",
        "\n",
        "X_train.shape, y_train.shape, X_val.shape, y_val.shape, X_test.shape, y_test.shape"
      ],
      "metadata": {
        "id": "PrNuNITGEAAn"
      },
      "execution_count": null,
      "outputs": []
    },
    {
      "cell_type": "markdown",
      "source": [
        "\n",
        "\n",
        "---\n",
        "\n",
        "\n",
        "## 5-2. 하이퍼파라미터 설정 없이 모델 학습\n",
        "\n",
        "\n",
        "5-2-1. Baseline 설정\n",
        "\n"
      ],
      "metadata": {
        "id": "7J7qKxXAJc79"
      }
    },
    {
      "cell_type": "code",
      "source": [
        "y_train.value_counts(normalize=True)"
      ],
      "metadata": {
        "id": "Qgv0RUx9JboT"
      },
      "execution_count": null,
      "outputs": []
    },
    {
      "cell_type": "code",
      "source": [
        "major = 1\n",
        "y_pred_base = [major] * len(y_val)"
      ],
      "metadata": {
        "id": "P-kpqKtyKpho"
      },
      "execution_count": null,
      "outputs": []
    },
    {
      "cell_type": "code",
      "source": [
        "from sklearn.metrics import accuracy_score, f1_score, roc_auc_score, classification_report\n",
        "\n",
        "print(f'accuracy_score : {accuracy_score(y_val, y_pred_base)}')\n",
        "print(f'f1_score : {f1_score(y_val, y_pred_base)}')\n",
        "print(f'auc_score : {roc_auc_score(y_val, y_pred_base)}')\n",
        "print(classification_report(y_val, y_pred_base))\n"
      ],
      "metadata": {
        "id": "xrJ83kmxNQOx"
      },
      "execution_count": null,
      "outputs": []
    },
    {
      "cell_type": "markdown",
      "source": [
        "\n",
        "\n",
        "> 데이터 불균형이 발생하여 f1 score 값이 매우 낮게 나옴\n",
        "####  **데이터 불균형 문제를 해결해야 됨.**\n",
        "\n",
        "\n",
        "\n",
        "\n"
      ],
      "metadata": {
        "id": "MEB_xAXtNUx0"
      }
    },
    {
      "cell_type": "markdown",
      "source": [
        "\n",
        "\n",
        "> 데이터 불균형 문제 해결 방법\n",
        "\n",
        "\n",
        "1.   Under Sampling : 데이터 손상의 가능성이 크다.\n",
        "2.   Over Sampling\\\n",
        "     --> ADASYN는 속도 저하의 단점이 있음.\\\n",
        "     --> 실무에서 많이 사용하는 SMOTE 이용할 것입니다.\n",
        "\n",
        "\n"
      ],
      "metadata": {
        "id": "wPVn3VNyHda5"
      }
    },
    {
      "cell_type": "markdown",
      "source": [
        "\n",
        "\n",
        "---\n",
        "\n",
        "\n",
        "### 5-2-2 데이터 불균형 해결 (SMOTE:Oversampling)\n",
        "\n",
        "\n"
      ],
      "metadata": {
        "id": "ZOgzBeTsIeO-"
      }
    },
    {
      "cell_type": "code",
      "source": [
        "X_train.info()"
      ],
      "metadata": {
        "id": "cCdX3by-WvFU"
      },
      "execution_count": null,
      "outputs": []
    },
    {
      "cell_type": "code",
      "source": [
        "!pip install -U imbalanced-learn"
      ],
      "metadata": {
        "id": "vy1wfrmRGiZP"
      },
      "execution_count": null,
      "outputs": []
    },
    {
      "cell_type": "code",
      "source": [
        "from imblearn.over_sampling import SMOTENC # Data Imbalance 해결\n",
        "\n",
        "smoter = SMOTENC(categorical_features=[0,1,2,3,5,6,7,8,9,10,11,12,14], random_state=42, n_jobs=-1)\n",
        "\n",
        "X_train_over, y_train_over = smoter.fit_resample(X_train, y_train)\n",
        "X_val_over, y_val_over = smoter.fit_resample(X_val, y_val)\n",
        "X_test_over, y_test_over = smoter.fit_resample(X_test, y_test)\n",
        "\n",
        "X_train = pd.DataFrame(X_train_over, columns=X_train.columns)\n",
        "X_val = pd.DataFrame(X_val_over, columns=X_train.columns)\n",
        "X_test = pd.DataFrame(X_test_over, columns=X_train.columns)\n",
        "\n",
        "y_train = y_train_over\n",
        "y_val = y_val_over\n",
        "y_test = y_test_over\n"
      ],
      "metadata": {
        "id": "ciQFoYiEIoO3"
      },
      "execution_count": null,
      "outputs": []
    },
    {
      "cell_type": "code",
      "source": [
        "X_train = pd.DataFrame(X_train_over, columns=X_train.columns)\n",
        "X_val = pd.DataFrame(X_val_over, columns=X_train.columns)\n",
        "X_test = pd.DataFrame(X_test_over, columns=X_train.columns)\n",
        "\n",
        "y_train = y_train_over\n",
        "y_val = y_val_over\n",
        "y_test = y_test_over\n",
        "\n",
        "print('SMOTE 적용 후 학습용 피처/레이블 데이터:', X_train.shape, y_train.shape)\n",
        "print('SMOTE 적용 후 val 피처/레이블 데이터:', X_val.shape, y_val.shape)\n",
        "print('SMOTE 적용 후 레이블 값 분포: \\n', pd.Series(y_train).value_counts())"
      ],
      "metadata": {
        "id": "QP6G5R1fWLtQ"
      },
      "execution_count": null,
      "outputs": []
    },
    {
      "cell_type": "markdown",
      "source": [
        "\n",
        "\n",
        "\n",
        "---\n",
        "\n",
        "\n",
        "*  Oversampling 후 Baseline 확인하기\n",
        "\n"
      ],
      "metadata": {
        "id": "d3N4HVIrowTj"
      }
    },
    {
      "cell_type": "code",
      "source": [
        "y_train.value_counts(normalize=True)"
      ],
      "metadata": {
        "id": "Utr7_XhwhwHp"
      },
      "execution_count": null,
      "outputs": []
    },
    {
      "cell_type": "code",
      "source": [
        "major1 = 1\n",
        "y_pred_base1 = [major1] * len(y_val)"
      ],
      "metadata": {
        "id": "lEmM_p24fWGj"
      },
      "execution_count": null,
      "outputs": []
    },
    {
      "cell_type": "code",
      "source": [
        "print(f'Oversampling 후 accuracy_score : {accuracy_score(y_val, y_pred_base1)}')\n",
        "print(f'Oversampling 후 f1_score : {f1_score(y_val, y_pred_base1)}')\n",
        "print(f'Oversampling 후 auc_score : {roc_auc_score(y_val, y_pred_base1)}')\n",
        "print(classification_report(y_val, y_pred_base1))\n",
        "\n",
        "# 데이터 불균형을 위한 SMOTE 사용으로 accuracy score 가 0.5로 나옴"
      ],
      "metadata": {
        "id": "5F707rqMfbuu"
      },
      "execution_count": null,
      "outputs": []
    },
    {
      "cell_type": "markdown",
      "source": [
        "\n",
        "\n",
        "---\n",
        "\n",
        "\n",
        "### 5-2-3 DecisionTreeClassification"
      ],
      "metadata": {
        "id": "lLCuOrdCVzKC"
      }
    },
    {
      "cell_type": "code",
      "source": [
        "from sklearn.pipeline import make_pipeline\n",
        "from category_encoders import OrdinalEncoder\n",
        "from sklearn.impute import SimpleImputer\n",
        "from sklearn.tree import DecisionTreeClassifier\n",
        "\n",
        "model_DT = make_pipeline(OrdinalEncoder(),\n",
        "                         SimpleImputer(),\n",
        "                         DecisionTreeClassifier())\n",
        "\n",
        "model_DT.fit(X_train, y_train)"
      ],
      "metadata": {
        "id": "7mSPbM1Nhx6-"
      },
      "execution_count": null,
      "outputs": []
    },
    {
      "cell_type": "code",
      "source": [
        "#train\n",
        "from sklearn.metrics import plot_confusion_matrix\n",
        "y_pred_train = model_DT.predict(X_train)\n",
        "\n",
        "print(f'accuracy_score : {accuracy_score(y_train, y_pred_train)}')\n",
        "print(f'f1_score : {f1_score(y_train, y_pred_train)}')\n",
        "print(f'auc_score : {roc_auc_score(y_train, y_pred_train)}')\n",
        "\n",
        "print(classification_report(y_train, y_pred_train))"
      ],
      "metadata": {
        "id": "tfupmmljZG_R"
      },
      "execution_count": null,
      "outputs": []
    },
    {
      "cell_type": "code",
      "source": [
        "#validation\n",
        "y_pred_val = model_DT.predict(X_val)\n",
        "\n",
        "print(f'accuracy_score : {accuracy_score(y_val, y_pred_val)}')\n",
        "print(f'f1_score : {f1_score(y_val, y_pred_val)}')\n",
        "print(f'auc_score : {roc_auc_score(y_val, y_pred_val)}')\n",
        "print(classification_report(y_val, y_pred_val))"
      ],
      "metadata": {
        "id": "tiy0QT2iWFau"
      },
      "execution_count": null,
      "outputs": []
    },
    {
      "cell_type": "markdown",
      "source": [
        "\n",
        "\n",
        "---\n",
        "### 5-2-4 RandomForestClassification\n"
      ],
      "metadata": {
        "id": "QWmaX7AaY5qF"
      }
    },
    {
      "cell_type": "code",
      "source": [
        "from sklearn.ensemble import RandomForestClassifier\n",
        "\n",
        "model_RF = make_pipeline(OrdinalEncoder(),\n",
        "                         SimpleImputer(),\n",
        "                         RandomForestClassifier())\n",
        "\n",
        "model_RF.fit(X_train, y_train)"
      ],
      "metadata": {
        "id": "XKW2YKQqWXcY"
      },
      "execution_count": null,
      "outputs": []
    },
    {
      "cell_type": "code",
      "source": [
        "#train\n",
        "y_pred_train = model_RF.predict(X_train)\n",
        "\n",
        "print(f'accuracy_score : {accuracy_score(y_train, y_pred_train)}')\n",
        "print(f'f1_score : {f1_score(y_train, y_pred_train)}')\n",
        "print(f'auc_score : {roc_auc_score(y_train, y_pred_train)}')\n",
        "print(classification_report(y_train, y_pred_train))"
      ],
      "metadata": {
        "id": "QCbFudQ3bRRK"
      },
      "execution_count": null,
      "outputs": []
    },
    {
      "cell_type": "code",
      "source": [
        "#validation\n",
        "y_pred_val = model_RF.predict(X_val)\n",
        "\n",
        "print(f'accuracy_score : {accuracy_score(y_val, y_pred_val)}')\n",
        "print(f'f1_score : {f1_score(y_val, y_pred_val)}')\n",
        "print(f'auc_score : {roc_auc_score(y_val, y_pred_val)}')\n",
        "print(classification_report(y_val, y_pred_val))"
      ],
      "metadata": {
        "id": "r632zSkqbZvC"
      },
      "execution_count": null,
      "outputs": []
    },
    {
      "cell_type": "markdown",
      "source": [
        "\n",
        "\n",
        "---\n",
        "\n",
        "\n",
        "### 5-2-5 GradientBoostingClassification"
      ],
      "metadata": {
        "id": "ooTsaTaTWH0l"
      }
    },
    {
      "cell_type": "code",
      "source": [
        "from sklearn.ensemble import GradientBoostingClassifier\n",
        "\n",
        "model_GB = make_pipeline(OrdinalEncoder(),\n",
        "                        SimpleImputer(),\n",
        "                        GradientBoostingClassifier())\n",
        "\n",
        "model_GB.fit(X_train, y_train)"
      ],
      "metadata": {
        "id": "j1kkLrCMb4Wf"
      },
      "execution_count": null,
      "outputs": []
    },
    {
      "cell_type": "code",
      "source": [
        "#train\n",
        "y_pred_train = model_GB.predict(X_train)\n",
        "\n",
        "print(f'accuracy_score : {accuracy_score(y_train, y_pred_train)}')\n",
        "print(f'f1_score : {f1_score(y_train, y_pred_train)}')\n",
        "print(f'auc_score : {roc_auc_score(y_train, y_pred_train)}')\n",
        "print(classification_report(y_train, y_pred_train))"
      ],
      "metadata": {
        "id": "aeqLnFpEcETE"
      },
      "execution_count": null,
      "outputs": []
    },
    {
      "cell_type": "code",
      "source": [
        "#validation\n",
        "y_pred_val = model_GB.predict(X_val)\n",
        "\n",
        "print(f'accuracy_score : {accuracy_score(y_val, y_pred_val)}')\n",
        "print(f'f1_score : {f1_score(y_val, y_pred_val)}')\n",
        "print(f'auc_score : {roc_auc_score(y_val, y_pred_val)}')\n",
        "print(classification_report(y_val, y_pred_val))"
      ],
      "metadata": {
        "id": "mJ7SF8NWcFVH"
      },
      "execution_count": null,
      "outputs": []
    },
    {
      "cell_type": "markdown",
      "source": [
        "\n",
        "---\n",
        "\n",
        "\n",
        "### 5-2-6 XGBClassification"
      ],
      "metadata": {
        "id": "Sk4Od-WXcUjR"
      }
    },
    {
      "cell_type": "code",
      "source": [
        "import xgboost\n",
        "from xgboost import XGBClassifier\n",
        "\n",
        "model_XGB = make_pipeline(OrdinalEncoder(),\n",
        "                          SimpleImputer(),\n",
        "                          XGBClassifier())\n",
        "\n",
        "model_XGB.fit(X_train, y_train)"
      ],
      "metadata": {
        "id": "6Au6YVOIcaqA"
      },
      "execution_count": null,
      "outputs": []
    },
    {
      "cell_type": "code",
      "source": [
        "#train\n",
        "y_pred_train = model_XGB.predict(X_train)\n",
        "\n",
        "print(f'accuracy_score : {accuracy_score(y_train, y_pred_train)}')\n",
        "print(f'f1_score : {f1_score(y_train, y_pred_train)}')\n",
        "print(f'auc_score : {roc_auc_score(y_train, y_pred_train)}')\n",
        "print(classification_report(y_train, y_pred_train))"
      ],
      "metadata": {
        "id": "V-mglEZrcbbL"
      },
      "execution_count": null,
      "outputs": []
    },
    {
      "cell_type": "code",
      "source": [
        "#validation\n",
        "y_pred_val = model_XGB.predict(X_val)\n",
        "\n",
        "print(f'accuracy_score : {accuracy_score(y_val, y_pred_val)}')\n",
        "print(f'f1_score : {f1_score(y_val, y_pred_val)}')\n",
        "print(f'auc_score : {roc_auc_score(y_val, y_pred_val)}')\n",
        "print(classification_report(y_val, y_pred_val))"
      ],
      "metadata": {
        "id": "taQ-HqFBcbp5"
      },
      "execution_count": null,
      "outputs": []
    },
    {
      "cell_type": "markdown",
      "source": [
        "---\n",
        "\n",
        "\n",
        "## 5-3. 하이퍼파라미터 조정 후 모델별 성능 비교\n",
        "\n",
        "- 하이퍼파라미터 조정 없이 모델링 진행했을 때, GradientBoosting과 XGB 가 성능이 좋았음.\n",
        "- XGB로 하이퍼파라미터 조정 후 모델링 진행"
      ],
      "metadata": {
        "id": "p7jLSHWGgru-"
      }
    },
    {
      "cell_type": "markdown",
      "source": [
        "###5-3-1 XGBClassification"
      ],
      "metadata": {
        "id": "jt2TnWfJoflk"
      }
    },
    {
      "cell_type": "code",
      "source": [
        "model_XGB = make_pipeline(OrdinalEncoder(),\n",
        "                          SimpleImputer(),\n",
        "                          XGBClassifier(random_state=42))\n",
        "\n",
        "model_XGB.fit(X_train, y_train)"
      ],
      "metadata": {
        "id": "CItlUv06h7QH"
      },
      "execution_count": null,
      "outputs": []
    },
    {
      "cell_type": "code",
      "source": [
        "y_pred_train = model_XGB.predict(X_train)\n",
        "\n",
        "print(f'accuracy_score : {accuracy_score(y_train, y_pred_train)}')\n",
        "print(f'f1_score : {f1_score(y_train, y_pred_train)}')\n",
        "print(f'auc_score : {roc_auc_score(y_train, y_pred_train)}')\n",
        "print(classification_report(y_train, y_pred_train))"
      ],
      "metadata": {
        "id": "EwLwtyWiV5jv"
      },
      "execution_count": null,
      "outputs": []
    },
    {
      "cell_type": "code",
      "source": [
        "y_pred_val = model_XGB.predict(X_val)\n",
        "\n",
        "print(f'accuracy_score : {accuracy_score(y_val, y_pred_val)}')\n",
        "print(f'f1_score : {f1_score(y_val, y_pred_val)}')\n",
        "print(f'auc_score : {roc_auc_score(y_val, y_pred_val)}')\n",
        "print(classification_report(y_val, y_pred_val))"
      ],
      "metadata": {
        "id": "QyfpBRv0Ak1f"
      },
      "execution_count": null,
      "outputs": []
    },
    {
      "cell_type": "markdown",
      "source": [
        "\n",
        "\n",
        "> RandomizedSearchCV 를 이용한 최적의 하이퍼파라미터 찾기\n",
        "\n"
      ],
      "metadata": {
        "id": "2Bsgu1ZSKRon"
      }
    },
    {
      "cell_type": "code",
      "source": [
        "from sklearn.model_selection import RandomizedSearchCV\n",
        "from scipy.stats import randint\n",
        "\n",
        "params_dist = {\n",
        "    'xgbclassifier__max_depth':randint(3, 10),\n",
        "    'xgbclassifier__learning_rate':[0.1,0.2,0.3],\n",
        "    'xgbclassifier__n_estimators':randint(100,1000,50)\n",
        "    }\n",
        "\n",
        "search_Rd = RandomizedSearchCV(model_XGB,\n",
        "                            param_distributions=params_dist,\n",
        "                            n_iter=50,\n",
        "                            cv=3,\n",
        "                            n_jobs=-1,\n",
        "                            verbose=1,\n",
        "                            scoring='accuracy' # accuracy 기준\n",
        "                            )\n",
        "\n",
        "search_Rd.fit(X_train, y_train)"
      ],
      "metadata": {
        "id": "UA3jUb4vA9iL"
      },
      "execution_count": null,
      "outputs": []
    },
    {
      "cell_type": "code",
      "source": [
        "print('최고 예측 정확도: {0:.4f}'.format(search_Rd.best_score_))\n",
        "print('최적 하이퍼 파라미터:\\n',search_Rd.best_params_)"
      ],
      "metadata": {
        "id": "Xu-2LGQ2BCO0"
      },
      "execution_count": null,
      "outputs": []
    },
    {
      "cell_type": "markdown",
      "source": [
        "\n",
        "\n",
        "> 최적의 하이퍼파라미터로 학습\n",
        "\n"
      ],
      "metadata": {
        "id": "HvuEN_dyKYRy"
      }
    },
    {
      "cell_type": "code",
      "source": [
        "from sklearn.pipeline import Pipeline\n",
        "model_final = Pipeline([\n",
        "                        ('preprocessing', make_pipeline(OrdinalEncoder(), SimpleImputer())),\n",
        "                          ('xgb', XGBClassifier(learning_rate=0.2, xgbclassifier__max_depth=7, xgbclassifier__n_estimators=802, random_state=42))\n",
        "])\n",
        "model_final.fit(X_train, y_train)\n",
        "\n",
        "y_pred= model_final.predict(X_test)\n"
      ],
      "metadata": {
        "id": "XE5-kIumKY1g"
      },
      "execution_count": null,
      "outputs": []
    },
    {
      "cell_type": "code",
      "source": [
        "y_pred_val = model_final.predict(X_val)\n",
        "\n",
        "print(f'accuracy_score : {accuracy_score(y_val, y_pred_val)}')\n",
        "print(f'f1_score : {f1_score(y_val, y_pred_val)}')\n",
        "print(f'auc_score : {roc_auc_score(y_val, y_pred_val)}')\n",
        "print(classification_report(y_val, y_pred_val))"
      ],
      "metadata": {
        "id": "l1Zm9i_6c96B"
      },
      "execution_count": null,
      "outputs": []
    },
    {
      "cell_type": "code",
      "source": [
        "print(f'accuracy_score : {accuracy_score(y_test, y_pred)}')\n",
        "print(f'f1_score : {f1_score(y_test, y_pred)}')\n",
        "print(f'auc_score : {roc_auc_score(y_test, y_pred)}')\n",
        "print(classification_report(y_test, y_pred))"
      ],
      "metadata": {
        "id": "EIZ2dS0FSGk0"
      },
      "execution_count": null,
      "outputs": []
    },
    {
      "cell_type": "code",
      "source": [
        "#ROC curve\n",
        "from sklearn.metrics import roc_curve\n",
        "\n",
        "y_pred_val_proba = model_final.predict_proba(X_val)[:,1]\n",
        "\n",
        "fpr, tpr, thresholds = roc_curve(y_val, y_pred_val_proba)\n",
        "\n",
        "roc = pd.DataFrame({\n",
        "    'FPR(Fall-out)': fpr, \n",
        "    'TPRate(Recall)': tpr, \n",
        "    'Threshold': thresholds\n",
        "})\n",
        "roc"
      ],
      "metadata": {
        "id": "lCimowkaSUba"
      },
      "execution_count": null,
      "outputs": []
    },
    {
      "cell_type": "code",
      "source": [
        "plt.scatter(fpr, tpr)\n",
        "plt.title('ROC curve')\n",
        "plt.xlabel('FPR(Fall-out)')\n",
        "plt.ylabel('TPR(Recall)');"
      ],
      "metadata": {
        "id": "-D-BUNhnVh3M"
      },
      "execution_count": null,
      "outputs": []
    },
    {
      "cell_type": "code",
      "source": [
        "#threshold\n",
        "import numpy as np\n",
        "optimal_idx = np.argmax(tpr - fpr)\n",
        "optimal_threshold = thresholds[optimal_idx]\n",
        "\n",
        "print('idx:', optimal_idx, ', threshold:', optimal_threshold)"
      ],
      "metadata": {
        "id": "dEfs_lrnV4QL"
      },
      "execution_count": null,
      "outputs": []
    },
    {
      "cell_type": "code",
      "source": [
        "y_pred_optimal = y_pred_val_proba >= optimal_threshold\n",
        "print(classification_report(y_val, y_pred_optimal))"
      ],
      "metadata": {
        "id": "mVH-ioELqJBI"
      },
      "execution_count": null,
      "outputs": []
    },
    {
      "cell_type": "code",
      "source": [
        "y_pred_test_proba = model_final.predict_proba(X_test)[:,1]\n",
        "\n",
        "y_pred_optimal = y_pred_test_proba >= optimal_threshold\n",
        "print(classification_report(y_test, y_pred_optimal))"
      ],
      "metadata": {
        "id": "oA8tU3DJqLC1"
      },
      "execution_count": null,
      "outputs": []
    },
    {
      "cell_type": "markdown",
      "source": [
        "> ## **6.** Permutation Importance"
      ],
      "metadata": {
        "id": "Zsvn8Y-3i-i1"
      }
    },
    {
      "cell_type": "code",
      "source": [
        "!pip install eli5\n",
        "import eli5\n",
        "from eli5.sklearn import PermutationImportance"
      ],
      "metadata": {
        "id": "cbHddMmXJyIa"
      },
      "execution_count": null,
      "outputs": []
    },
    {
      "cell_type": "code",
      "source": [
        "permuter = PermutationImportance(\n",
        "    model_final.named_steps['xgb'],\n",
        "    scoring='accuracy',\n",
        "    n_iter=5,\n",
        "    random_state=42\n",
        ")\n",
        "\n",
        "X_test_t = model_final.named_steps['preprocessing'].transform(X_test)\n",
        "\n",
        "permuter.fit(X_test_t, y_test)"
      ],
      "metadata": {
        "id": "2WGRNRoDYXGU"
      },
      "execution_count": null,
      "outputs": []
    },
    {
      "cell_type": "code",
      "source": [
        "feature_names = X_test.columns.tolist()\n",
        "pd.Series(permuter.feature_importances_, feature_names).sort_values(ascending=False)"
      ],
      "metadata": {
        "id": "i5Y0vixHepaG"
      },
      "execution_count": null,
      "outputs": []
    },
    {
      "cell_type": "code",
      "source": [
        "eli5.show_weights(\n",
        "    permuter, \n",
        "    top=None, \n",
        "    feature_names=feature_names \n",
        ")"
      ],
      "metadata": {
        "id": "KVAskWHYfdku"
      },
      "execution_count": null,
      "outputs": []
    },
    {
      "cell_type": "markdown",
      "source": [
        "> ## **7.** PDP(Partial Dependence Plot)"
      ],
      "metadata": {
        "id": "U4A9peq2fvgR"
      }
    },
    {
      "cell_type": "code",
      "source": [
        "!pip install pdpbox\n",
        "!pip install shap"
      ],
      "metadata": {
        "id": "01G5GK0Pf227"
      },
      "execution_count": null,
      "outputs": []
    },
    {
      "cell_type": "code",
      "source": [
        "from pdpbox import pdp\n",
        "from pdpbox.pdp import pdp_isolate, pdp_plot\n",
        "from pdpbox.pdp import pdp_interact, pdp_interact_plot\n",
        "\n",
        "import shap"
      ],
      "metadata": {
        "id": "miL8tFqXjBUC"
      },
      "execution_count": null,
      "outputs": []
    },
    {
      "cell_type": "code",
      "source": [
        "feature = 'FAMILY_SIZE'\n",
        "\n",
        "isolated = pdp_isolate(\n",
        "    model=model_final, \n",
        "    dataset=X_val, \n",
        "    model_features=X_val.columns, \n",
        "    feature=feature\n",
        ")\n",
        "\n",
        "pdp_plot(isolated, feature_name=feature)\n"
      ],
      "metadata": {
        "id": "RkjBtUCBgpCV"
      },
      "execution_count": null,
      "outputs": []
    },
    {
      "cell_type": "markdown",
      "source": [
        "      <가족 구성원>\n",
        "      1. 2.5명 이하 : 2개월 이상 연체 가능성 낮음\n",
        "      2. 약 2.5명 ~ 3명 이하 : 연체 가능성 증가\n",
        "      3. 3명 ~ 20명 : 연체 가능성 미미하게 증가"
      ],
      "metadata": {
        "id": "_AokzYyCtkP5"
      }
    },
    {
      "cell_type": "code",
      "source": [
        "feature = 'ANNUAL_INCOME'\n",
        "\n",
        "isolated = pdp_isolate(\n",
        "    model=model_final, \n",
        "    dataset=X_val, \n",
        "    model_features=X_val.columns, \n",
        "    feature=feature\n",
        ")\n",
        "\n",
        "pdp_plot(isolated, feature_name=feature)\n"
      ],
      "metadata": {
        "id": "O13SccpIoAsi"
      },
      "execution_count": null,
      "outputs": []
    },
    {
      "cell_type": "markdown",
      "source": [
        "    <연간 수입>\n",
        "    수입이 많은 사람들은 연체 가능성 낮음"
      ],
      "metadata": {
        "id": "jEzj6CHtudj0"
      }
    },
    {
      "cell_type": "code",
      "source": [
        "feature = 'CHILDREN'\n",
        "\n",
        "isolated = pdp_isolate(\n",
        "    model=model_final, \n",
        "    dataset=X_val, \n",
        "    model_features=X_val.columns, \n",
        "    feature=feature\n",
        ")\n",
        "\n",
        "pdp_plot(isolated, feature_name=feature)"
      ],
      "metadata": {
        "id": "kuIX7M2iomRy"
      },
      "execution_count": null,
      "outputs": []
    },
    {
      "cell_type": "markdown",
      "source": [
        "    <자녀의 수>\n",
        "    자녀가 많을수록 연체 가능성이 낮아짐"
      ],
      "metadata": {
        "id": "zlpMDddIwkMb"
      }
    },
    {
      "cell_type": "code",
      "source": [
        "feature = 'AGE'\n",
        "\n",
        "isolated = pdp_isolate(\n",
        "    model=model_final, \n",
        "    dataset=X_test, \n",
        "    model_features=X_test.columns, \n",
        "    feature=feature\n",
        ")\n",
        "\n",
        "pdp_plot(isolated, feature_name=feature)"
      ],
      "metadata": {
        "id": "YTviiCPUorXR"
      },
      "execution_count": null,
      "outputs": []
    },
    {
      "cell_type": "markdown",
      "source": [
        "    <나이>\n",
        "    1. 20대 후반까지 연체 가능성이 있음\n",
        "    2. 30이 넘어가서부터 연체 가능성 감소\n",
        "    3. 60대 이후 : 연체 가능성 대폭 감소"
      ],
      "metadata": {
        "id": "7Sg9-yqHxWI-"
      }
    },
    {
      "cell_type": "code",
      "source": [
        "feature = 'DAYS_EMPLOYED'\n",
        "\n",
        "isolated = pdp_isolate(\n",
        "    model=model_final, \n",
        "    dataset=X_test, \n",
        "    model_features=X_test.columns, \n",
        "    feature=feature\n",
        ")\n",
        "\n",
        "pdp_plot(isolated, feature_name=feature)"
      ],
      "metadata": {
        "id": "ieiAn__EsBBP"
      },
      "execution_count": null,
      "outputs": []
    },
    {
      "cell_type": "markdown",
      "source": [
        "    <재직 기간>\n",
        "    1. 5년 이하 : 연체 가능성 낮은 편\n",
        "    2. 5년 이상~7년 이하 : 연체 가능성 대폭 감소함\n",
        "    3. 7년 이상~9년반 이하 : 연체 가능성 대폭 증가함\n",
        "    4. 10년 이상 : 연체 가능성 점점 감소"
      ],
      "metadata": {
        "id": "0S8lRqt6ynmI"
      }
    },
    {
      "cell_type": "markdown",
      "source": [
        "\n",
        "\n",
        "---\n",
        "##7-1 PDP interact (성별과 나이)\n"
      ],
      "metadata": {
        "id": "e7B4DhDr2Dxm"
      }
    },
    {
      "cell_type": "code",
      "source": [
        "from pdpbox.pdp import pdp_interact, pdp_interact_plot\n",
        "features = ['GENDER', 'AGE']\n",
        "\n",
        "interaction = pdp_interact(\n",
        "    model=model_final, \n",
        "    dataset=X_test, \n",
        "    model_features=X_test.columns, \n",
        "    features=features\n",
        ")\n",
        "\n",
        "pdp_interact_plot(interaction, plot_type='grid', feature_names=features);\n",
        "\n",
        "#0 : 남자, 1 : 여자"
      ],
      "metadata": {
        "id": "YyjZVwO_0IhU"
      },
      "execution_count": null,
      "outputs": []
    },
    {
      "cell_type": "markdown",
      "source": [
        "     성별에 따른 연체 가능성은 차이가 미미함.\n",
        "     나이가 들수록 연체 가능성이 감소함.\n",
        "     21~29세의 연체율이 제일 크다."
      ],
      "metadata": {
        "id": "MIsPluiE3jh1"
      }
    },
    {
      "cell_type": "markdown",
      "source": [
        "> ## **8.** SHAP"
      ],
      "metadata": {
        "id": "Oeva2F6R38fa"
      }
    },
    {
      "cell_type": "code",
      "source": [
        "X_test.shape"
      ],
      "metadata": {
        "id": "OO5jM18X8v61"
      },
      "execution_count": null,
      "outputs": []
    },
    {
      "cell_type": "code",
      "source": [
        "X_test_enc = enc.transform(X_test)\n",
        "\n",
        "shap.initjs()\n",
        "explainer = shap.TreeExplainer(model_final.named_steps['xgb'])\n",
        "shap_values = explainer.shap_values(X_test_enc.iloc[:2000])\n",
        "shap.force_plot(explainer.expected_value, shap_values, features=X_test_enc.iloc[:2000]);\n"
      ],
      "metadata": {
        "id": "EdfX9VOQ6sse"
      },
      "execution_count": null,
      "outputs": []
    },
    {
      "cell_type": "code",
      "source": [
        "shap.summary_plot(shap_values, X_test_enc.iloc[:2000], plot_type=\"violin\");"
      ],
      "metadata": {
        "id": "X6kF_Y008o_q"
      },
      "execution_count": null,
      "outputs": []
    },
    {
      "cell_type": "markdown",
      "source": [
        "    1. 나이가 어릴수록 연체 가능성이 높아짐\n",
        "    2. 결혼 상태 feature 값이 작을수록 연체 가능성이 높아짐\n",
        "    (위에 자료 시각화에서 widow와 single 이 연체 가능성이 높았음)"
      ],
      "metadata": {
        "id": "UF2ToNXo-Rh0"
      }
    },
    {
      "cell_type": "code",
      "source": [
        "shap.summary_plot(shap_values, X_test_enc.iloc[:2000], plot_type=\"bar\");"
      ],
      "metadata": {
        "id": "HtAFOILG89Ep"
      },
      "execution_count": null,
      "outputs": []
    },
    {
      "cell_type": "markdown",
      "source": [
        "결론 : 결혼을 하지 않은 싱글일수록, 30대 이하가 연체 가능성이 높으므로\n",
        "카드 발급을 할 때 나이 항목과 결혼 여부를 확인할 필요가 있음."
      ],
      "metadata": {
        "id": "hc2kaKaGB4cr"
      }
    }
  ]
}